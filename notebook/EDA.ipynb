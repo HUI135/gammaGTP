{
  "cells": [
    {
      "cell_type": "markdown",
      "metadata": {
        "id": "DCBa73fGshFo"
      },
      "source": [
        "### Importing\n",
        "[공공데이터포털 :: 국민건강보험공단_건강검진정보 데이터 상세](https://www.data.go.kr/data/15007122/fileData.do)"
      ]
    },
    {
      "cell_type": "code",
      "execution_count": null,
      "metadata": {
        "id": "Wl765HENvSuH"
      },
      "outputs": [],
      "source": [
        "%pip install pandas ydata-profiling"
      ]
    },
    {
      "cell_type": "code",
      "execution_count": null,
      "metadata": {
        "id": "9W-gzqSqgnF5"
      },
      "outputs": [],
      "source": [
        "import os\n",
        "import pandas as pd\n",
        "import numpy as np\n",
        "import plotly.express as px\n",
        "import plotly.graph_objects as go\n",
        "from plotly.subplots import make_subplots\n",
        "import matplotlib.pyplot as plt\n",
        "import seaborn as sns\n",
        "# from ydata_profiling import ProfileReport"
      ]
    },
    {
      "cell_type": "code",
      "execution_count": null,
      "metadata": {
        "id": "Ul0xlWUooJA7"
      },
      "outputs": [],
      "source": [
        "from google.colab import drive\n",
        "drive.mount('/content/drive')"
      ]
    },
    {
      "cell_type": "code",
      "execution_count": null,
      "metadata": {
        "id": "ae43rSj03YRi"
      },
      "outputs": [],
      "source": [
        "# path = '/content/drive/MyDrive/Dataset/Healthcare DB/'\n",
        "\n",
        "# df = pd.read_csv(path + '국민건강보험공단_건강검진정보_2023.CSV', encoding='cp949')"
      ]
    },
    {
      "cell_type": "code",
      "execution_count": null,
      "metadata": {
        "id": "3sbOw_wnoKEN"
      },
      "outputs": [],
      "source": [
        "path = '/content/drive/MyDrive/Dataset/Healthcare DB/'\n",
        "\n",
        "data = pd.DataFrame()\n",
        "files = os.listdir(path)\n",
        "\n",
        "for file in files:\n",
        "    if file.endswith('.CSV'):\n",
        "        data = pd.concat([data, pd.read_csv(path + file, encoding='cp949')], ignore_index=True)"
      ]
    },
    {
      "cell_type": "code",
      "execution_count": null,
      "metadata": {
        "id": "noH4vrPT2j2s"
      },
      "outputs": [],
      "source": [
        "data.drop(columns = ['데이터 공개일자'], inplace=True)\n",
        "\n",
        "first_cols = ['가입자일련번호', '성별코드', '연령대코드(5세단위)', '신장(5cm단위)', '체중(5kg단위)', '수축기혈압', '이완기혈압',  '총콜레스테롤', 'HDL콜레스테롤', 'LDL콜레스테롤', '혈청지오티(AST)', '혈청지피티(ALT)', '감마지티피', '구강검진수검여부', ]\n",
        "second_cols = ['가입자 일련번호', '성별', '연령대 코드(5세단위)', '신장(5Cm단위)', '체중(5Kg 단위)',  '수축기 혈압', '이완기 혈압', '총 콜레스테롤', 'HDL 콜레스테롤', 'LDL 콜레스테롤', '(혈청지오티)AST', '(혈청지오티)ALT', '감마 지티피', '구강검진 수검여부', ]\n",
        "\n",
        "for first_col, second_col in zip(first_cols, second_cols):\n",
        "    data[f'{first_col}_md'] = data[first_col].combine_first(data[second_col])\n",
        "    data.drop(columns = [first_col, second_col], inplace=True)"
      ]
    },
    {
      "cell_type": "code",
      "source": [
        "rename_map = {\n",
        "    '기준년도': 'year',\n",
        "    '가입자일련번호_md': 'serial',\n",
        "    '시도코드': 'region',\n",
        "    '성별코드_md': 'sex',\n",
        "    '허리둘레': 'waist',\n",
        "    '시력(좌)': 'vision_left',\n",
        "    '시력(우)': 'vision_right',\n",
        "    '청력(좌)': 'hearing_left',\n",
        "    '청력(우)': 'hearing_right',\n",
        "    '식전혈당(공복혈당)': 'fasting_glucose',\n",
        "    '트리글리세라이드': 'tg',\n",
        "    '혈색소': 'hemoglobin',\n",
        "    '요단백': 'urine_prot',\n",
        "    '혈청크레아티닌': 'serum_creatine',\n",
        "    '흡연상태': 'smoke',\n",
        "    '음주여부': 'drink',\n",
        "    '치아우식증유무': 'dental_caries',\n",
        "    '결손치 유무': 'missing_teeth',\n",
        "    '치아마모증유무': 'tooth_wear',\n",
        "    '제3대구치(사랑니) 이상': 'tooth_abnormality',\n",
        "    '치석': 'tartar',\n",
        "    '연령대코드(5세단위)_md': 'age_group',\n",
        "    '신장(5cm단위)_md': 'height',\n",
        "    '체중(5kg단위)_md': 'weight',\n",
        "    '수축기혈압_md': 'sbp',\n",
        "    '이완기혈압_md': 'dbp',\n",
        "    '총콜레스테롤_md': 'total_chol',\n",
        "    'HDL콜레스테롤_md': 'hdl_chol',\n",
        "    'LDL콜레스테롤_md': 'ldl_chol',\n",
        "    '혈청지오티(AST)_md': 'ast',\n",
        "    '혈청지피티(ALT)_md': 'alt',\n",
        "    '감마지티피_md': 'gamma_gtp',\n",
        "    '구강검진수검여부_md': 'oral_exam'\n",
        "}\n",
        "\n",
        "data.rename(columns = rename_map, inplace=True)"
      ],
      "metadata": {
        "id": "_GBFqvmfLMt5"
      },
      "execution_count": null,
      "outputs": []
    },
    {
      "cell_type": "code",
      "execution_count": null,
      "metadata": {
        "id": "EK6f1o7Pr9jb"
      },
      "outputs": [],
      "source": [
        "data = data[[\n",
        "    'year', 'serial', 'region', 'sex', 'age_group', 'height', 'weight', 'waist',\n",
        "    'vision_left', 'vision_right', 'hearing_left', 'hearing_right',\n",
        "    'sbp', 'dbp', 'fasting_glucose', 'total_chol', 'tg', 'hdl_chol', 'ldl_chol',\n",
        "    'hemoglobin', 'urine_prot', 'serum_creatine', 'ast', 'alt', 'gamma_gtp',\n",
        "    'smoke', 'drink', 'oral_exam', 'dental_caries', 'missing_teeth', 'tooth_wear',\n",
        "    'tooth_abnormality', 'tartar'\n",
        "]]"
      ]
    },
    {
      "cell_type": "code",
      "source": [
        "data.year.value_counts()"
      ],
      "metadata": {
        "id": "K8D60x9DL9hZ"
      },
      "execution_count": null,
      "outputs": []
    },
    {
      "cell_type": "markdown",
      "metadata": {
        "id": "zWNnOxyzujs_"
      },
      "source": [
        "### Info\n",
        "| No | 항목명 | 설명 | 표현형식/단위 | 예시 | 영문 변수명 |\n",
        "|:--:|:-----|:-----|:-------------|:----|:-----------|\n",
        "| 1 | 기준년도 | 해당 정보의 기준년도 | YYYY | 2009 | year |\n",
        "| 2 | 가입자일련번호 | 가입자에 부여한 일련번호 (1~1,000,000) | N | 1 | serial |\n",
        "| 3 | 성별코드 | 성별: 1(남자), 2(여자) | N | 1 | sex |\n",
        "| 4 | 연령대코드(5세 단위) | 5세 단위 그룹화, 85세 이상은 85+ | N | 11 | age_group |\n",
        "| 5 | 시도코드 | 수진자 거주지 시도 코드 | N | 26 | region |\n",
        "| 6 | 신장(5cm 단위) | 키를 5cm 단위로 기록 | N/cm | 140 | height |\n",
        "| 7 | 체중(5kg 단위) | 몸무게를 5kg 단위로 기록 | N/kg | 45 | weight |\n",
        "| 8 | 허리둘레 | 허리둘레 (2008년부터 추가) | N/cm | 82 | waist |\n",
        "| 9 | 시력(좌) | 좌측 눈 시력 (0.1~2.5, 실명=9.9) | N | 0.5 | vision_left |\n",
        "| 10 | 시력(우) | 우측 눈 시력 (0.1~2.5, 실명=9.9) | N | 0.5 | vision_right |\n",
        "| 11 | 청력(좌) | 좌측 귀 청력: 1(정상), 2(비정상) | N | 1 | hearing_left |\n",
        "| 12 | 청력(우) | 우측 귀 청력: 1(정상), 2(비정상) | N | 1 | hearing_right |\n",
        "| 13 | 수축기혈압 | 심장 수축 시 혈압 | N/mmHg | 140 | sbp |\n",
        "| 14 | 이완기혈압 | 심장 이완 시 혈압 | N/mmHg | 81 | dbp |\n",
        "| 15 | 식전혈당(공복혈당) | 식사 전 혈당 수치 | N/mg/dL | 94 | fasting_glucose |\n",
        "| 16 | 총콜레스테롤 | 혈청 내 총 콜레스테롤 | N/mg/dL | 164 | total_chol |\n",
        "| 17 | 트리글리세라이드 | 중성지방 수치 | N/mg/dL | 94 | tg |\n",
        "| 18 | HDL콜레스테롤 | 고밀도 리포단백 콜레스테롤 | N/mg/dL | 45 | hdl_chol |\n",
        "| 19 | LDL콜레스테롤 | 저밀도 리포단백 콜레스테롤 | N/mg/dL | 50 or 130 | ldl_chol |\n",
        "| 20 | 혈색소 | 산소 운반 단백질 | N/g/dL | 15.3984 | hemoglobin |\n",
        "| 21 | 요단백 | 소변 내 단백질 여부: 1(-) ~ 6(+4) | N | 1 | urine_prot |\n",
        "| 22 | 혈청크레아티닌 | 신장 기능 지표 | N/mg/dL | 0.8 | serum_creatine |\n",
        "| 23 | 혈청지오티(AST) | 간, 심장, 신장 등 세포 손상 지표 | N/IU/L | 12 | ast |\n",
        "| 24 | 혈청지피티(ALT) | 간세포 손상 지표 | N/IU/L | 15 | alt |\n",
        "| 25 | 감마지티피 | 담관/간 기능 지표 | N/IU/L | 19 or 114 | gamma_gtp |\n",
        "| 26 | 흡연상태 | 1(비흡연), 2(금연), 3(현재 흡연) | N | 1 | smoke |\n",
        "| 27 | 음주여부 | 0(비음주), 1(음주) | N | 1 | drink |\n",
        "| 28 | 구강검진 수검여부 | 구강검진 여부: 0(미수검), 1(수검) | N | 1 | oral_exam |\n",
        "| 29 | 치아우식증유무 | 충치 여부: 0(없음), 1(있음) | N | 1 | dental_caries |\n",
        "| 30 | 결손치유무 | 결손치 여부: 0(없음), 1(있음) (※2009년부터 제외) | N | 1 | missing_teeth |\n",
        "| 31 | 치아마모증유무 | 치아 마모 여부: 0(없음), 1(있음) (※2014년부터 제외) | N | 1 | tooth_wear |\n",
        "| 32 | 제3대구치(사랑니)이상 | 사랑니 이상 여부: 0(없음), 1(있음) (※2014년부터 제외) | N | 1 | tooth_abnormality |\n",
        "| 33 | 치석 | 치석 여부: 0(없음), 1(있음) | N | 1 | tartar |\n"
      ]
    },
    {
      "cell_type": "code",
      "source": [
        "data.age_group.value_counts()"
      ],
      "metadata": {
        "id": "oP5en97cGGah"
      },
      "execution_count": null,
      "outputs": []
    },
    {
      "cell_type": "code",
      "execution_count": null,
      "metadata": {
        "id": "bcRz86jTsHlR"
      },
      "outputs": [],
      "source": [
        "data.head()"
      ]
    },
    {
      "cell_type": "code",
      "execution_count": null,
      "metadata": {
        "id": "Nsnv86i5sLio"
      },
      "outputs": [],
      "source": [
        "round(data.isna().sum() / len(data) * 100, 2)"
      ]
    },
    {
      "cell_type": "markdown",
      "metadata": {
        "id": "E2BAGmSds-JS"
      },
      "source": [
        "🚫 missing_teeth(결손치 유무), tooth_wear(치아 마모증 유무), tooth_abnormality(제3대구치(사랑니) 이상) 변수는  \n",
        "null 컬럼이므로 데이터셋에서 제외한다."
      ]
    },
    {
      "cell_type": "code",
      "execution_count": null,
      "metadata": {
        "id": "j28G3YKStRae"
      },
      "outputs": [],
      "source": [
        "data.drop(columns = ['missing_teeth', 'tooth_wear', 'tooth_abnormality'], inplace=True)"
      ]
    },
    {
      "cell_type": "markdown",
      "source": [
        "🚫 시력 검사, 청력 검사, 구강 검사 결과는 연구 주제 감마 지티피와는 연관이 없을 것으로 제외한다."
      ],
      "metadata": {
        "id": "PFk68NDWPuZi"
      }
    },
    {
      "cell_type": "code",
      "source": [
        "data.drop(columns = ['vision_left', 'vision_right', 'hearing_left', 'hearing_right', 'oral_exam', 'dental_caries', 'tartar'], inplace=True)"
      ],
      "metadata": {
        "id": "ekWrCxq2P82_"
      },
      "execution_count": null,
      "outputs": []
    },
    {
      "cell_type": "markdown",
      "source": [
        "🚫 year == 2023 단일 값의 열은 분석에 불필요할 것이므로 제외한다."
      ],
      "metadata": {
        "id": "MiaZyPI5Ka_y"
      }
    },
    {
      "cell_type": "code",
      "execution_count": null,
      "metadata": {
        "id": "OrX9De8j3pRo"
      },
      "outputs": [],
      "source": [
        "data.drop(columns = ['year'], inplace=True)"
      ]
    },
    {
      "cell_type": "code",
      "execution_count": null,
      "metadata": {
        "id": "3yguyiZivaIv"
      },
      "outputs": [],
      "source": [
        "# profile = ProfileReport(df, title=\"Health Checkup Dataset Profiling Report\", explorative=True)\n",
        "# profile.to_file(\"health_dataset_profile.html\")\n",
        "# profile.to_notebook_iframe()"
      ]
    },
    {
      "cell_type": "markdown",
      "source": [
        "### Missing MCAR check\n",
        "    - 만 25세 이상의 성인이 아님. (검진자료 한계)\n",
        "\n",
        "    - γ-GTP 수치가 기록되어 있지 않음.\n",
        "    - fasing glucose 수치가 기록되어 있지 않음.\n",
        "    - sbp, dbp 수치가 기록되어 있지 않음.\n",
        "       (위 세 변수의 결측률은 0.57-0.58%이며, 이는 MCAR으로 간주하여 결측을 단순 drop하여도 문제가 없다고 판단)"
      ],
      "metadata": {
        "id": "KOB5qSfUWJ5M"
      }
    },
    {
      "cell_type": "code",
      "source": [
        "round(data.loc[data.gamma_gtp.isna()].describe(include='all'), 0)"
      ],
      "metadata": {
        "id": "GwJKNXdca3o-"
      },
      "execution_count": null,
      "outputs": []
    },
    {
      "cell_type": "code",
      "source": [
        "# 그룹별 평균 차이 계산\n",
        "group_stats = {}\n",
        "for col in ['gamma_gtp', 'fasting_glucose', 'sbp', 'dbp']:\n",
        "    df_temp = data.copy()\n",
        "    df_temp['missing_flag'] = df_temp[col].isnull()\n",
        "    stats = df_temp.groupby('missing_flag').mean(numeric_only=True)\n",
        "    group_stats[col] = stats.drop(columns=[col], errors='ignore')\n",
        "\n",
        "# group_stats를 보기 좋게 하나의 DataFrame으로 합치기\n",
        "summary_list = []\n",
        "for var_name, stat_df in group_stats.items():\n",
        "    stat_df = stat_df.copy()\n",
        "    stat_df['variable_with_missing'] = var_name\n",
        "    stat_df['missing_flag'] = stat_df.index\n",
        "    summary_list.append(stat_df.reset_index(drop=True))\n",
        "\n",
        "# 최종 DataFrame 생성\n",
        "summary_df = pd.concat(summary_list, axis=0, ignore_index=True)\n",
        "\n",
        "# 열 순서 재정렬\n",
        "cols = ['variable_with_missing', 'missing_flag'] + [col for col in summary_df.columns if col not in ['variable_with_missing', 'missing_flag']]\n",
        "summary_df = round(summary_df[cols], 1)"
      ],
      "metadata": {
        "id": "g52jWNX2cPob"
      },
      "execution_count": null,
      "outputs": []
    },
    {
      "cell_type": "code",
      "source": [
        "# 네 변수 중 NaN인 개수 계산\n",
        "df_temp[['gamma_gtp', 'fasting_glucose', 'sbp', 'dbp']].isna().sum(axis=1).value_counts().sort_index()"
      ],
      "metadata": {
        "id": "lWW97Vh8rE-d"
      },
      "execution_count": null,
      "outputs": []
    },
    {
      "cell_type": "code",
      "source": [
        "from scipy.stats import mannwhitneyu, chi2_contingency\n",
        "import numpy as np\n",
        "import pandas as pd\n",
        "\n",
        "# 설정\n",
        "target_vars = df_temp.columns.tolist()\n",
        "cat_vars = ['sex', 'smoke', 'drink']\n",
        "results = []\n",
        "\n",
        "df_temp['missing_flag'] = pd.Series()\n",
        "\n",
        "# 분석\n",
        "for target in target_vars:\n",
        "    df_temp['missing_flag'] = df_temp[target].isnull()\n",
        "\n",
        "    for col in df_temp.columns:\n",
        "        if col == target or col == 'missing_flag':\n",
        "            continue\n",
        "\n",
        "        n_non_missing = df_temp[df_temp['missing_flag'] == False][col].dropna().shape[0]\n",
        "        n_missing = df_temp[df_temp['missing_flag'] == True][col].dropna().shape[0]\n",
        "\n",
        "        if col in cat_vars:\n",
        "            contingency_table = pd.crosstab(df_temp['missing_flag'], df_temp[col])\n",
        "            if contingency_table.shape[0] == 2:\n",
        "                chi2, p, _, _ = chi2_contingency(contingency_table, correction=False)\n",
        "                # Cramer's V 계산\n",
        "                n = contingency_table.sum().sum()\n",
        "                phi2 = chi2 / n\n",
        "                r, k = contingency_table.shape\n",
        "                cramers_v = np.sqrt(phi2 / min(k-1, r-1)) if min(k-1, r-1) > 0 else np.nan\n",
        "            else:\n",
        "                p = np.nan\n",
        "                cramers_v = np.nan\n",
        "\n",
        "            levels = df_temp[col].dropna().unique()\n",
        "\n",
        "            for level in sorted(levels):\n",
        "                compared_var_name = f\"{col} [{level}]\"\n",
        "\n",
        "                p1 = df_temp[(df_temp['missing_flag'] == False) & (df_temp[col] == level)].shape[0] / n_non_missing if n_non_missing > 0 else np.nan\n",
        "                p2 = df_temp[(df_temp['missing_flag'] == True) & (df_temp[col] == level)].shape[0] / n_missing if n_missing > 0 else np.nan\n",
        "\n",
        "                perc_non_missing = p1 * 100 if not np.isnan(p1) else np.nan\n",
        "                perc_missing = p2 * 100 if not np.isnan(p2) else np.nan\n",
        "\n",
        "                summary_non_missing = f\"{perc_non_missing:.1f}%\" if not np.isnan(perc_non_missing) else \"NA\"\n",
        "                summary_missing = f\"{perc_missing:.1f}%\" if not np.isnan(perc_missing) else \"NA\"\n",
        "\n",
        "                # SMD for proportion\n",
        "                pooled_var = (p1 * (1 - p1) + p2 * (1 - p2)) / 2 if not (np.isnan(p1) or np.isnan(p2)) else np.nan\n",
        "                smd = (p1 - p2) / np.sqrt(pooled_var) if pooled_var and pooled_var > 0 else np.nan\n",
        "\n",
        "                results.append({\n",
        "                    'target_variable': target,\n",
        "                    'compared_variable': compared_var_name,\n",
        "                    'non_missing (n)': f\"{summary_non_missing} ({n_non_missing:,})\",\n",
        "                    'missing (n)': f\"{summary_missing} ({n_missing:,})\",\n",
        "                    'p-value': \"<0.001\" if (not np.isnan(p) and p < 0.001) else (f\"{p:.3f}\" if not np.isnan(p) else \"NA\"),\n",
        "                    'effect size': f\"{cramers_v:.3f}\" if not np.isnan(cramers_v) else \"NA\",\n",
        "                    'SMD': f\"{smd:.3f}\" if not np.isnan(smd) else \"NA\"\n",
        "                })\n",
        "\n",
        "        else:\n",
        "            group1 = df_temp[df_temp['missing_flag'] == False][col].dropna()\n",
        "            group2 = df_temp[df_temp['missing_flag'] == True][col].dropna()\n",
        "            if len(group1) > 0 and len(group2) > 0:\n",
        "                stat, p = mannwhitneyu(group1, group2, alternative='two-sided')\n",
        "                # Rank biserial correlation\n",
        "                n1, n2 = len(group1), len(group2)\n",
        "                rank_biserial = (2 * stat) / (n1 * n2) - 1\n",
        "\n",
        "                # SMD 계산\n",
        "                m1, m2 = group1.mean(), group2.mean()\n",
        "                s1, s2 = group1.std(), group2.std()\n",
        "                pooled_sd = np.sqrt((s1 ** 2 + s2 ** 2) / 2)\n",
        "                smd = (m1 - m2) / pooled_sd if pooled_sd > 0 else np.nan\n",
        "            else:\n",
        "                p = np.nan\n",
        "                rank_biserial = np.nan\n",
        "                m1, m2, smd = np.nan, np.nan, np.nan\n",
        "\n",
        "            summary_non_missing = f\"{m1:.1f}\" if not np.isnan(m1) else \"NA\"\n",
        "            summary_missing = f\"{m2:.1f}\" if not np.isnan(m2) else \"NA\"\n",
        "\n",
        "            results.append({\n",
        "                'target_variable': target,\n",
        "                'compared_variable': col,\n",
        "                'non_missing (n)': f\"{summary_non_missing} ({n_non_missing:,})\",\n",
        "                'missing (n)': f\"{summary_missing} ({n_missing:,})\",\n",
        "                'p-value': \"<0.001\" if (not np.isnan(p) and p < 0.001) else (f\"{p:.3f}\" if not np.isnan(p) else \"NA\"),\n",
        "                'effect size': f\"{rank_biserial:.3f}\" if not np.isnan(rank_biserial) else \"NA\",\n",
        "                'SMD': f\"{smd:.3f}\" if not np.isnan(smd) else \"NA\"\n",
        "            })\n",
        "\n",
        "    df_temp.drop(columns='missing_flag', inplace=True)\n",
        "\n",
        "# 결과 데이터프레임 생성\n",
        "final_df = pd.DataFrame(results)"
      ],
      "metadata": {
        "id": "I14TBEQSDCTy"
      },
      "execution_count": null,
      "outputs": []
    },
    {
      "cell_type": "markdown",
      "source": [
        "🚫 gamma gtp missing에서 남성의 비율이 37.2% 여성의 비율이 62.8%  \n",
        "🚫 gamma gtp missing에서 나이 분포가 non missing 보다 높은 편"
      ],
      "metadata": {
        "id": "8_vfutoh7qBo"
      }
    },
    {
      "cell_type": "code",
      "source": [
        "final_df[final_df['target_variable'] == 'gamma_gtp']"
      ],
      "metadata": {
        "id": "Cxvf9GEc5S6E"
      },
      "execution_count": null,
      "outputs": []
    },
    {
      "cell_type": "markdown",
      "source": [
        "🚫\n",
        "(effect_size 0.5 이상을 유의한 차이로 보았을 때)\n",
        "gamma_gpt는 고령(75세)에서 결측이 많이 발생,  \n",
        "작은 신장, 적은 체중, 작은 허리둘레에서 많이 발생 (이건 고령의 특성이 반영되었겠다)  \n",
        "non-drinker에서 많이 발생(이 또한 고령의 특성일 수 있으나, non-drink 비교적 압도적임)\n",
        "\n",
        "gamma_gtp 결측 시, total_chol, tg, hdl_chol, ldl_chol, serum_creatine, ast, alt는 전부 결측이다.  \n",
        "hemoglobin, urine_prot 또한 대부분이 결측"
      ],
      "metadata": {
        "id": "QK9H3-hLAe7L"
      }
    },
    {
      "cell_type": "code",
      "source": [
        "final_df[final_df['target_variable'] == 'total_chol']"
      ],
      "metadata": {
        "id": "Rar_XGoiBYXe"
      },
      "execution_count": null,
      "outputs": []
    },
    {
      "cell_type": "markdown",
      "source": [
        "⭐ 결측이 0.57-0.58%에 달하는 gamma_gtp, fasting_glucose, sbp, dbp는 exclusion criteria로 포함. (단순 행 제거)  \n",
        "⭐ 결측이 60%에 달하는 행들, MAR -> multiple imputation\n",
        "\n"
      ],
      "metadata": {
        "id": "mNGgTsgTDQjD"
      }
    },
    {
      "cell_type": "code",
      "source": [
        "final_df[final_df['target_variable'] == 'gamma_gtp']"
      ],
      "metadata": {
        "id": "4i1Uvn43B1MQ"
      },
      "execution_count": null,
      "outputs": []
    },
    {
      "cell_type": "markdown",
      "source": [
        "### Inclusion Criteria\n",
        "    - 직장가입자와 20세 이상의 피부양자, 세대주인 지역가입자와 20세 이상의 지역가입자 중\n",
        "    - 일반건강검진 수검이력이 있는 연도별 수진자 100만 명 무작위 선정\n",
        "### Exclusion Criteria\n",
        "    - 고령 제외 (cut-off를 어떻게?)"
      ],
      "metadata": {
        "id": "cYSRwm0NHFAx"
      }
    },
    {
      "cell_type": "markdown",
      "source": [
        "### Outliers"
      ],
      "metadata": {
        "id": "xjB6DsrPSnfM"
      }
    },
    {
      "cell_type": "markdown",
      "source": [
        "#### Waist\n",
        "    - 999 값 (n=47)은 missing으로 판단됨 -> np.nan 처리  \n",
        "    - 일부 값이 너무 큰 경우, 두자리 수가 세자리 수로 잘못 입력되었을 가능성 하에 플래그로 남김"
      ],
      "metadata": {
        "id": "GuKMGeraS_Bt"
      }
    },
    {
      "cell_type": "code",
      "source": [
        "data.waist.describe().round(0)"
      ],
      "metadata": {
        "id": "2Snr_3MESpJY"
      },
      "execution_count": null,
      "outputs": []
    },
    {
      "cell_type": "code",
      "source": [
        "len(data.loc[data.waist == 999])"
      ],
      "metadata": {
        "id": "q72j9aGUTQ9k"
      },
      "execution_count": null,
      "outputs": []
    },
    {
      "cell_type": "code",
      "source": [
        "data.loc[data.waist == 999, 'waist'] = np.nan"
      ],
      "metadata": {
        "id": "BJJSTDhLTnBJ"
      },
      "execution_count": null,
      "outputs": []
    },
    {
      "cell_type": "code",
      "source": [
        "data.waist.describe().round(0)"
      ],
      "metadata": {
        "id": "qDeG3NMHTqH2"
      },
      "execution_count": null,
      "outputs": []
    },
    {
      "cell_type": "code",
      "source": [
        "data.loc[data.waist > 150, ['sex', 'height', 'weight', 'waist']]"
      ],
      "metadata": {
        "id": "2wc-TqSLTzI6"
      },
      "execution_count": null,
      "outputs": []
    },
    {
      "cell_type": "code",
      "source": [
        "data['waist_flag'] = (data['waist'] > 150).astype(int)"
      ],
      "metadata": {
        "id": "L3SE4NCjVUDe"
      },
      "execution_count": null,
      "outputs": []
    },
    {
      "cell_type": "code",
      "source": [
        "px.box(x = data['waist'], height = 400, width=600)"
      ],
      "metadata": {
        "id": "r8MA9R5pVWN1"
      },
      "execution_count": null,
      "outputs": []
    },
    {
      "cell_type": "code",
      "source": [
        "data.serial.value_counts()"
      ],
      "metadata": {
        "id": "XstfhR4ekgO2"
      },
      "execution_count": null,
      "outputs": []
    },
    {
      "cell_type": "markdown",
      "source": [
        "#### Fasting Glucose\n",
        "    - 일부 값이 너무 큰 경우, 두자리 수가 세자리 수로 잘못 입력되었을 가능성 하에 수기 조정함"
      ],
      "metadata": {
        "id": "5Jl76qdPVh9s"
      }
    },
    {
      "cell_type": "code",
      "source": [
        "data.fasting_glucose.describe().round(0)"
      ],
      "metadata": {
        "id": "hG6VeHIfWE4L"
      },
      "execution_count": null,
      "outputs": []
    },
    {
      "cell_type": "code",
      "source": [
        "data.loc[data.fasting_glucose >= 600]"
      ],
      "metadata": {
        "id": "6RAaTdCrWWjt"
      },
      "execution_count": null,
      "outputs": []
    },
    {
      "cell_type": "code",
      "source": [
        "data['fasting_glucose_flag'] = (data['fasting_glucose'] >= 600).astype(int)"
      ],
      "metadata": {
        "id": "i1ia6QB9Wyyh"
      },
      "execution_count": null,
      "outputs": []
    },
    {
      "cell_type": "code",
      "source": [
        "px.box(x = data.fasting_glucose, height=400, width=600)"
      ],
      "metadata": {
        "id": "83iW7UeyXBcP"
      },
      "execution_count": null,
      "outputs": []
    },
    {
      "cell_type": "markdown",
      "source": [
        "#### Total cholesterol, HDL cholesterol, LDL cholesterol, TG\n",
        "    - 일부 값이 너무 큰 경우, 두자리 수가 세자리 수로 잘못 입력되었을 가능성 하에 수기 조정함"
      ],
      "metadata": {
        "id": "0Nyjs7OXXVVU"
      }
    },
    {
      "cell_type": "code",
      "source": [
        "data.total_chol.describe().round(0)"
      ],
      "metadata": {
        "id": "4fKhjhZDXcG3"
      },
      "execution_count": null,
      "outputs": []
    },
    {
      "cell_type": "code",
      "source": [
        "data.loc[data.total_chol > 800, ['total_chol', 'hdl_chol', 'ldl_chol', 'tg']]"
      ],
      "metadata": {
        "id": "o9hCV3aJXY8k"
      },
      "execution_count": null,
      "outputs": []
    },
    {
      "cell_type": "code",
      "source": [
        "data['total_chol_flag'] = (data['total_chol'] > 800).astype(int)"
      ],
      "metadata": {
        "id": "8LsPST9UY-3L"
      },
      "execution_count": null,
      "outputs": []
    },
    {
      "cell_type": "code",
      "source": [
        "data['hdl_chol_flag'] = (data['hdl_chol'] > 500).astype(int)"
      ],
      "metadata": {
        "id": "tpp9aNUzZTfp"
      },
      "execution_count": null,
      "outputs": []
    },
    {
      "cell_type": "code",
      "source": [
        "data['ldl_chol_flag'] = (data['ldl_chol'] > 500).astype(int)"
      ],
      "metadata": {
        "id": "aD_uZwe4ZV3v"
      },
      "execution_count": null,
      "outputs": []
    },
    {
      "cell_type": "markdown",
      "source": [
        "#### Serum creatine"
      ],
      "metadata": {
        "id": "FtU7eVXXZY0W"
      }
    },
    {
      "cell_type": "code",
      "source": [
        "data.serum_creatine.describe().round(0)"
      ],
      "metadata": {
        "id": "C4zvPFqiZhsY"
      },
      "execution_count": null,
      "outputs": []
    },
    {
      "cell_type": "code",
      "source": [
        "data.loc[data.serum_creatine > 40, ['serum_creatine']]"
      ],
      "metadata": {
        "id": "Sjc71jubZkDa"
      },
      "execution_count": null,
      "outputs": []
    },
    {
      "cell_type": "code",
      "source": [
        "data['serum_creatine_flag'] = (data.serum_creatine > 50).astype(int)"
      ],
      "metadata": {
        "id": "uIfU2J25Zp3T"
      },
      "execution_count": null,
      "outputs": []
    },
    {
      "cell_type": "markdown",
      "source": [
        "#### AST, ALT"
      ],
      "metadata": {
        "id": "bxJ16WuDZvZ3"
      }
    },
    {
      "cell_type": "code",
      "source": [
        "data.ast.describe().round(0)"
      ],
      "metadata": {
        "id": "X55C8TJ8ZxKl"
      },
      "execution_count": null,
      "outputs": []
    },
    {
      "cell_type": "code",
      "source": [
        "data.loc[data.ast > 3000]"
      ],
      "metadata": {
        "id": "jZfM0R0fZymh"
      },
      "execution_count": null,
      "outputs": []
    },
    {
      "cell_type": "code",
      "source": [
        "data['ast_flag'] = (data['ast'] > 1000).astype(int)"
      ],
      "metadata": {
        "id": "uxFtmDcjZ5Wg"
      },
      "execution_count": null,
      "outputs": []
    },
    {
      "cell_type": "code",
      "source": [
        "data.alt.describe().round(0)"
      ],
      "metadata": {
        "id": "7Jcm_qwnaIGO"
      },
      "execution_count": null,
      "outputs": []
    },
    {
      "cell_type": "code",
      "source": [
        "data.loc[data.alt > 3000]"
      ],
      "metadata": {
        "id": "f0UtyAUPaIGP"
      },
      "execution_count": null,
      "outputs": []
    },
    {
      "cell_type": "code",
      "source": [
        "data['alt_flag'] = (data['alt'] > 1000).astype(int)"
      ],
      "metadata": {
        "id": "PJAZ0cF-aIGP"
      },
      "execution_count": null,
      "outputs": []
    },
    {
      "cell_type": "markdown",
      "source": [
        "#### Gamma gtp"
      ],
      "metadata": {
        "id": "kITKU0FuaOku"
      }
    },
    {
      "cell_type": "code",
      "source": [
        "data['gamma_gtp'].describe().round(0)"
      ],
      "metadata": {
        "id": "jBJgmKQdaQeL"
      },
      "execution_count": null,
      "outputs": []
    },
    {
      "cell_type": "code",
      "source": [
        "data.loc[data.gamma_gtp == 9999]"
      ],
      "metadata": {
        "id": "BvagZGUaaUGP"
      },
      "execution_count": null,
      "outputs": []
    },
    {
      "cell_type": "code",
      "source": [
        "data.loc[data.gamma_gtp  == 9999, 'gamma_gtp'] = np.nan"
      ],
      "metadata": {
        "id": "5lwnhAE2aoPR"
      },
      "execution_count": null,
      "outputs": []
    },
    {
      "cell_type": "code",
      "source": [
        "data.loc[data.gamma_gtp > 2000]"
      ],
      "metadata": {
        "id": "b_Jy71DSateU"
      },
      "execution_count": null,
      "outputs": []
    },
    {
      "cell_type": "code",
      "source": [
        "data['gamma_gtp_flag'] = (data.gamma_gtp > 2000).astype(int)"
      ],
      "metadata": {
        "id": "8svUzG3da5qU"
      },
      "execution_count": null,
      "outputs": []
    },
    {
      "cell_type": "markdown",
      "source": [
        "#### Flags"
      ],
      "metadata": {
        "id": "4NVO_nxHa9MD"
      }
    },
    {
      "cell_type": "code",
      "source": [
        "flag_cols = ['waist_flag', 'fasting_glucose_flag', 'total_chol_flag', 'hdl_chol_flag', 'ldl_chol_flag', 'serum_creatine_flag', 'ast_flag', 'alt_flag', 'gamma_gtp_flag']"
      ],
      "metadata": {
        "id": "eZUjN_FSbRrM"
      },
      "execution_count": null,
      "outputs": []
    },
    {
      "cell_type": "code",
      "source": [
        "data[data[flag_cols].sum(axis=1) > 1]"
      ],
      "metadata": {
        "id": "FoBOQ4HTa-rk"
      },
      "execution_count": null,
      "outputs": []
    },
    {
      "cell_type": "code",
      "source": [
        "data.waist_flag.value_counts()"
      ],
      "metadata": {
        "id": "t4GoE11RUoXG"
      },
      "execution_count": null,
      "outputs": []
    },
    {
      "cell_type": "markdown",
      "metadata": {
        "id": "lGZJpEYSxiZy"
      },
      "source": [
        "### EDA"
      ]
    },
    {
      "cell_type": "code",
      "execution_count": null,
      "metadata": {
        "id": "IsR-C3fgz0iW"
      },
      "outputs": [],
      "source": [
        "# df_plt = data.head(100000)"
      ]
    },
    {
      "cell_type": "code",
      "source": [
        "# df_plt = data.copy()\n",
        "df_plt = data.sample(frac=0.1, random_state=42).copy()"
      ],
      "metadata": {
        "id": "dD9LZwtd8G7v"
      },
      "execution_count": null,
      "outputs": []
    },
    {
      "cell_type": "code",
      "execution_count": null,
      "metadata": {
        "id": "uerv0EtEK0BA"
      },
      "outputs": [],
      "source": [
        "df_plt.drop(columns = ['serial'], inplace=True)"
      ]
    },
    {
      "cell_type": "code",
      "execution_count": null,
      "metadata": {
        "id": "YBuzfIz6xnD-"
      },
      "outputs": [],
      "source": [
        "cat_cols = []\n",
        "num_cols = []\n",
        "\n",
        "for col in df_plt.columns:\n",
        "    if (df_plt[col].nunique() <= 5) and (not col.endswith('flag')):\n",
        "        cat_cols.append(col)\n",
        "    elif (df_plt[col].nunique() > 5) and (not col.endswith('flag')):\n",
        "        num_cols.append(col)\n",
        "\n",
        "print(\"categorical columns : \", cat_cols, f\"({len(cat_cols)}개)\")\n",
        "print(\"numerical columns : \", num_cols, f\"({len(num_cols)}개)\")"
      ]
    },
    {
      "cell_type": "code",
      "source": [
        "flag_cols = []\n",
        "\n",
        "for col in df_plt.columns:\n",
        "    if col.endswith('flag'):\n",
        "        flag_cols.append(col)\n",
        "\n",
        "print(\"flag columns : \", flag_cols, f\"({len(flag_cols)}개)\")"
      ],
      "metadata": {
        "id": "tI5iSzfiAeot"
      },
      "execution_count": null,
      "outputs": []
    },
    {
      "cell_type": "markdown",
      "metadata": {
        "id": "bvFL94Pq9sn4"
      },
      "source": [
        "#### Univariable EDA"
      ]
    },
    {
      "cell_type": "code",
      "source": [
        "df_plt = data.sample(frac=0.2, random_state=42).copy()"
      ],
      "metadata": {
        "id": "W_munfkZ_z3U"
      },
      "execution_count": null,
      "outputs": []
    },
    {
      "cell_type": "code",
      "execution_count": null,
      "metadata": {
        "id": "qkUMD3R8zUNw"
      },
      "outputs": [],
      "source": [
        "cat_maps = {\n",
        "    'sex' :  {1: 'Men', 2: 'Women'},\n",
        "    'smoke' : {1: \"Non\", 2: \"Ex\", 3: \"Current\"},\n",
        "    'drink' : {0: \"Non-drinker\", 1: \"Drinker\"},\n",
        "}\n",
        "\n",
        "for col in cat_cols:\n",
        "    if col in df_plt.columns:\n",
        "        df_plt[col] = df_plt[col].map(cat_maps[col]).fillna(\"Missing\")"
      ]
    },
    {
      "cell_type": "code",
      "execution_count": null,
      "metadata": {
        "id": "1dbkotS2IiPS"
      },
      "outputs": [],
      "source": [
        "import plotly.express as px\n",
        "from plotly.subplots import make_subplots\n",
        "import plotly.graph_objects as go\n",
        "\n",
        "# --- 기본 설정 ---\n",
        "total_plots = len(cat_cols)\n",
        "cols = 3\n",
        "rows = (total_plots // cols) + int(total_plots % cols != 0)\n",
        "\n",
        "fig = make_subplots(\n",
        "    rows=rows, cols=cols,\n",
        "    subplot_titles=[\"\"] * total_plots,  # 서브플롯 제목 삭제\n",
        "    vertical_spacing=0.15,\n",
        "    horizontal_spacing=0.08\n",
        ")\n",
        "\n",
        "# --- 변수별 히스토그램 ---\n",
        "for i, var in enumerate(cat_cols):\n",
        "    categories = list(df_plt[var].astype(str).value_counts().sort_values(ascending=False).index)\n",
        "    row = (i // cols) + 1\n",
        "    col = (i % cols) + 1\n",
        "\n",
        "    # 카운트 및 퍼센트 계산\n",
        "    counts = df_plt[var].value_counts(dropna=True)\n",
        "    percentages = round(counts / counts.sum() * 100, 2)\n",
        "    # categories 순서에 맞게 카운트와 퍼센트 재정렬\n",
        "    counts = [counts[cat] for cat in categories]\n",
        "    percentages = [percentages[cat] for cat in categories]\n",
        "    percent_text = [\n",
        "        '<0.01%' if p < 0.01 else (f'{p:.1f}%' if p >= 1 else f'{p:.2f}%')\n",
        "        for p in percentages\n",
        "    ]\n",
        "\n",
        "    df_plt[var] = pd.Categorical(df_plt[var], categories=categories, ordered=True)\n",
        "\n",
        "    bar = go.Bar(\n",
        "        x=categories,\n",
        "        y=counts,\n",
        "        text=percent_text,\n",
        "        textposition='auto',\n",
        "        name=var,\n",
        "        marker=dict(color='#1f77b4')\n",
        "    )\n",
        "\n",
        "    bar.showlegend = False\n",
        "    bar.texttemplate = '%{text}'\n",
        "    bar.textposition = 'auto'\n",
        "    bar.textfont = dict(family=\"Times New Roman\", size=11)\n",
        "    fig.add_trace(bar, row=row, col=col)\n",
        "\n",
        "    # x축 설정: 모든 카테고리 레이블 명시적으로 지정\n",
        "    fig.update_xaxes(\n",
        "        title_text=var.replace('_', ' ').capitalize(),  # 제목 포맷\n",
        "        row=row, col=col,\n",
        "        showgrid=True,\n",
        "        gridcolor='#D6DBDF',\n",
        "        zeroline=False,\n",
        "        linecolor='#85929E',\n",
        "        tickfont=dict(family=\"Times New Roman\", size=12),\n",
        "        title_font=dict(family=\"Times New Roman\", size=14, color=\"black\"),\n",
        "        title_standoff=10,\n",
        "        tickmode='array',  # 틱 배열로 설정\n",
        "        tickvals=list(range(len(categories))),  # 틱 위치 (0, 1, 2, ...)\n",
        "        ticktext=categories,  # 카테고리 레이블\n",
        "        range=[-0.5, len(categories) - 0.5],  # x축 범위 제한\n",
        "        automargin=True  # 레이블 축약 방지\n",
        "    )\n",
        "\n",
        "# --- y축 설정 ---\n",
        "fig.update_yaxes(\n",
        "    title_text=\"Count\",\n",
        "    showgrid=True,\n",
        "    gridcolor='#D6DBDF',\n",
        "    zeroline=True,\n",
        "    linecolor='#85929E',\n",
        "    tickfont=dict(family=\"Times New Roman\", size=12),\n",
        "    title_standoff=5\n",
        ")\n",
        "\n",
        "# --- 전체 레이아웃 ---\n",
        "fig.update_layout(\n",
        "    height=300 * rows,\n",
        "    width=300 * cols,\n",
        "    title_text=\"<b>Univariable EDA: Distribution of Categorical Variables</b>\",\n",
        "    plot_bgcolor='#F2F3F4',\n",
        "    font=dict(family=\"Times New Roman\"),\n",
        "    margin=dict(l=50, r=20, t=80, b=50),\n",
        "    title=dict(font=dict(size=26)),\n",
        "    showlegend=False\n",
        ")\n",
        "\n",
        "fig.show()"
      ]
    },
    {
      "cell_type": "code",
      "execution_count": null,
      "metadata": {
        "id": "AeyV0QrsJcmL"
      },
      "outputs": [],
      "source": [
        "import plotly.express as px\n",
        "from plotly.subplots import make_subplots\n",
        "import plotly.graph_objects as go\n",
        "import numpy as np\n",
        "\n",
        "# --- 기본 설정 ---\n",
        "total_plots = len(num_cols)\n",
        "cols = 4\n",
        "rows = (total_plots // cols) + int(total_plots % cols != 0)\n",
        "\n",
        "fig = make_subplots(\n",
        "    rows=rows, cols=cols,\n",
        "    subplot_titles=[\"\"] * total_plots,  # 서브플롯 제목 삭제\n",
        "    vertical_spacing=0.05,\n",
        "    horizontal_spacing=0.06  # 간격 축소\n",
        ")\n",
        "\n",
        "# --- 변수별 히스토그램 ---\n",
        "for i, var in enumerate(num_cols):\n",
        "    row = (i // cols) + 1\n",
        "    col = (i % cols) + 1\n",
        "\n",
        "    # 데이터 준비 (결측값 제거)\n",
        "    df_plt_dn = df_plt[var].dropna()\n",
        "\n",
        "    # 히스토그램 생성\n",
        "    hist = go.Histogram(\n",
        "        x=df_plt_dn,\n",
        "        histfunc='count',\n",
        "        name=var,\n",
        "        marker=dict(color='#1f77b4'),\n",
        "        opacity=0.6\n",
        "    )\n",
        "\n",
        "    # 히스토그램 설정\n",
        "    hist.showlegend = False\n",
        "    fig.add_trace(hist, row=row, col=col)\n",
        "\n",
        "    # x축 범위 계산 및 설정\n",
        "    data_min = df_plt_dn.min()\n",
        "    data_max = df_plt_dn.max()\n",
        "    padding = (data_max - data_min) * 0.05  # 범위의 5% 패딩 추가\n",
        "    x_range = [data_min - padding, data_max + padding]\n",
        "\n",
        "    # x축 설정\n",
        "    fig.update_xaxes(\n",
        "        title_text=var.replace('_', ' ').capitalize(),  # 제목 포맷\n",
        "        row=row, col=col,\n",
        "        showgrid=True,\n",
        "        gridcolor='#D6DBDF',\n",
        "        zeroline=False,\n",
        "        linecolor='#85929E',\n",
        "        tickfont=dict(family=\"Times New Roman\", size=12),\n",
        "        title_font=dict(family=\"Times New Roman\", size=14, color=\"black\"),\n",
        "        title_standoff=10,\n",
        "        automargin=True,\n",
        "        range=x_range  # x축 범위 명시적 설정\n",
        "    )\n",
        "\n",
        "    # y축 설정\n",
        "    fig.update_yaxes(\n",
        "        title_text=\"Count\",\n",
        "        showgrid=True,\n",
        "        gridcolor='#D6DBDF',\n",
        "        zeroline=True,\n",
        "        linecolor='#85929E',\n",
        "        tickfont=dict(family=\"Times New Roman\", size=12),\n",
        "        title_standoff=5,\n",
        "        row=row, col=col\n",
        "    )\n",
        "\n",
        "# --- 전체 레이아웃 ---\n",
        "fig.update_layout(\n",
        "    height=250 * rows,\n",
        "    width=cols * 300,\n",
        "    title_text=\"<b>Univariable EDA: Distribution of Numerical Variables</b>\",\n",
        "    plot_bgcolor='#F2F3F4',\n",
        "    font=dict(family=\"Times New Roman\"),\n",
        "    margin=dict(l=40, r=20, t=80, b=50),\n",
        "    title=dict(font=dict(size=26)),\n",
        "    showlegend=False\n",
        ")\n",
        "\n",
        "fig.show()"
      ]
    },
    {
      "cell_type": "code",
      "execution_count": null,
      "metadata": {
        "collapsed": true,
        "id": "bG68dFwKLvxz"
      },
      "outputs": [],
      "source": [
        "import plotly.express as px\n",
        "from plotly.subplots import make_subplots\n",
        "import plotly.graph_objects as go\n",
        "import numpy as np\n",
        "\n",
        "# --- 기본 설정 ---\n",
        "total_plots = len(num_cols)\n",
        "cols = 4\n",
        "rows = (total_plots // cols) + int(total_plots % cols != 0)\n",
        "\n",
        "# 서브플롯 생성\n",
        "fig = make_subplots(\n",
        "    rows=rows, cols=cols,\n",
        "    subplot_titles=[\"\"] * total_plots,  # 서브플롯 제목 삭제\n",
        "    vertical_spacing=0.06,\n",
        "    horizontal_spacing=0.05,\n",
        "    shared_yaxes=True  # y축 공유\n",
        ")\n",
        "\n",
        "# --- 변수별 박스플롯 ---\n",
        "for i, var in enumerate(num_cols):\n",
        "    row = (i // cols) + 1\n",
        "    col = (i % cols) + 1\n",
        "\n",
        "    # 데이터 준비 (결측값 제거)\n",
        "    df_plt_dn = df_plt[var].dropna()\n",
        "\n",
        "    # 데이터가 있는 경우에만 박스플롯 생성\n",
        "    if len(df_plt_dn) > 0:\n",
        "        # 박스플롯 생성\n",
        "        box = go.Box(\n",
        "            x=df_plt_dn,  # 가로 박스플롯\n",
        "            y=[0] * len(df_plt_dn),  # y축에 고정된 값 (단일 박스 위치)\n",
        "            name=var,\n",
        "            marker=dict(color='#1f77b4'),\n",
        "            line=dict(color='#1f77b4'),\n",
        "            boxpoints='outliers',\n",
        "            jitter=0.3,\n",
        "            pointpos=0,  # 이상치 점을 박스 중앙에 배치\n",
        "            orientation='h',  # 가로 박스플롯\n",
        "            opacity=0.8\n",
        "        )\n",
        "\n",
        "        # 박스플롯 설정\n",
        "        box.showlegend = False  # 범례 숨김\n",
        "        fig.add_trace(box, row=row, col=col)\n",
        "\n",
        "    # x축 설정\n",
        "    fig.update_xaxes(\n",
        "        title_text=var.replace('_', ' ').capitalize(),  # x축에 변수명 표시\n",
        "        row=row, col=col,\n",
        "        showgrid=True,\n",
        "        gridcolor='#D6DBDF',\n",
        "        zeroline=False,\n",
        "        linecolor='#85929E',\n",
        "        tickfont=dict(family=\"Times New Roman\", size=12),\n",
        "        title_font=dict(family=\"Times New Roman\", size=14, color=\"black\"),\n",
        "        title_standoff=10,\n",
        "        automargin=True\n",
        "    )\n",
        "\n",
        "    # y축 설정\n",
        "    fig.update_yaxes(\n",
        "        title_text=\"\",  # y축 제목 제거\n",
        "        showgrid=True,\n",
        "        gridcolor='#D6DBDF',\n",
        "        zeroline=False,\n",
        "        linecolor='#85929E',\n",
        "        tickfont=dict(family=\"Times New Roman\", size=12),\n",
        "        title_standoff=5,\n",
        "        showticklabels=False,  # y축 틱 레이블 제거\n",
        "        row=row, col=col\n",
        "    )\n",
        "\n",
        "# 모든 y축 제목과 틱 레이블 제거\n",
        "for axis in fig.layout:\n",
        "    if axis.startswith('yaxis'):\n",
        "        fig.layout[axis].title.text = \"\"\n",
        "        fig.layout[axis].showticklabels = False\n",
        "        # y축 범위 설정 제거: Plotly가 자동으로 처리하도록 허용\n",
        "\n",
        "# --- 전체 레이아웃 ---\n",
        "fig.update_layout(\n",
        "    height=250 * rows,\n",
        "    width=cols * 300,\n",
        "    title_text=\"<b>Univariable EDA: Distribution of Numerical Variables</b>\",\n",
        "    plot_bgcolor='#F2F3F4',\n",
        "    font=dict(family=\"Times New Roman\"),\n",
        "    margin=dict(l=40, r=20, t=80, b=50),\n",
        "    title=dict(font=dict(size=26)),\n",
        "    showlegend=False\n",
        ")\n",
        "\n",
        "fig.show()"
      ]
    },
    {
      "cell_type": "markdown",
      "source": [
        "#### Multivariable EDA"
      ],
      "metadata": {
        "id": "7-kz5bfowcG0"
      }
    },
    {
      "cell_type": "code",
      "source": [
        "import pandas as pd\n",
        "import numpy as np\n",
        "import plotly.graph_objects as go\n",
        "from plotly.subplots import make_subplots\n",
        "\n",
        "total_plots = len(cat_cols)\n",
        "cols = 3\n",
        "rows = 1\n",
        "\n",
        "fig = make_subplots(\n",
        "    rows=rows, cols=cols,\n",
        "    subplot_titles=[\"\"] * total_plots,\n",
        "    vertical_spacing=0.15,\n",
        "    horizontal_spacing=0.08\n",
        ")\n",
        "\n",
        "for i, var in enumerate(cat_cols):\n",
        "    row = (i // cols) + 1\n",
        "    col = (i % cols) + 1\n",
        "\n",
        "    categories = list(df_plt[var].astype(str).value_counts().sort_values(ascending=False).index)\n",
        "    df_plt[var] = pd.Categorical(df_plt[var], categories=categories, ordered=True)\n",
        "    x_numeric = df_plt[var].cat.codes\n",
        "\n",
        "    box = go.Box(\n",
        "        x=x_numeric,\n",
        "        y=df_plt['gamma_gtp'],\n",
        "        name=var,\n",
        "        boxpoints='outliers',\n",
        "        marker=dict(color='#1f77b4', opacity=0.3),\n",
        "        line=dict(width=1),\n",
        "        showlegend=False\n",
        "    )\n",
        "\n",
        "    fig.add_trace(box, row=row, col=col)\n",
        "\n",
        "    fig.update_xaxes(\n",
        "        showline=True,\n",
        "        linecolor='#85929E',\n",
        "        linewidth=1,\n",
        "        showgrid=True,\n",
        "        gridcolor='#D6DBDF',\n",
        "        zeroline=False,\n",
        "        title_text=var.replace('_', ' ').capitalize(),\n",
        "        tickmode='array',\n",
        "        tickvals=list(range(len(categories))),\n",
        "        ticktext=categories,\n",
        "        range=[-0.5, len(categories) - 0.5],\n",
        "        tickfont=dict(family=\"Times New Roman\", size=12),\n",
        "        title_font=dict(family=\"Times New Roman\", size=14),\n",
        "        row=row, col=col,\n",
        "        automargin=True\n",
        "    )\n",
        "\n",
        "    fig.update_yaxes(\n",
        "        row=row, col=col,\n",
        "        zeroline=True,\n",
        "        showline=True,\n",
        "        linecolor='#85929E',\n",
        "        linewidth=1,\n",
        "        tickfont=dict(family=\"Times New Roman\", size=12),\n",
        "        title_font=dict(family=\"Times New Roman\", size=14),\n",
        "    )\n",
        "\n",
        "    fig.update_layout(\n",
        "        height=300 * rows,\n",
        "        width=350 * cols,\n",
        "        title_text=\"<b>Gamma-GTP by Categorical Variables (10% Sample)</b>\",\n",
        "        yaxis_title=\"Gamma-GTP\",  # ✅ 모든 subplot에 y축 타이틀 공유\n",
        "        plot_bgcolor='#F2F3F4',\n",
        "        font=dict(family=\"Times New Roman\"),\n",
        "        margin=dict(l=50, r=20, t=80, b=50),\n",
        "        title=dict(font=dict(size=24)),\n",
        "        showlegend=False,\n",
        "    )\n",
        "\n",
        "    for i in range(1, total_plots + 1):\n",
        "        fig['layout'][f'yaxis{i}']['title'] = 'Gamma-GTP'\n",
        "\n",
        "fig.show()"
      ],
      "metadata": {
        "id": "bz4prDZKwdtw"
      },
      "execution_count": null,
      "outputs": []
    },
    {
      "cell_type": "code",
      "source": [
        "for col in flag_cols:\n",
        "    print(df_plt[col].value_counts())"
      ],
      "metadata": {
        "id": "KLxit8mLbgmb"
      },
      "execution_count": null,
      "outputs": []
    },
    {
      "cell_type": "code",
      "source": [
        "df_plt.loc[df_plt['serum_creatine_flag'] == 1]"
      ],
      "metadata": {
        "id": "iW7WUxtNc-0h"
      },
      "execution_count": null,
      "outputs": []
    },
    {
      "cell_type": "code",
      "source": [
        "flag_maps = {0: \"Non-Missing\", 1: \"Missing\"}\n",
        "\n",
        "for col in flag_cols:\n",
        "    if col in df_plt.columns:\n",
        "        df_plt[col] = df_plt[col].map(flag_maps)\n",
        "        df_plt[col] = df_plt[col].fillna(\"Unknown\")"
      ],
      "metadata": {
        "id": "UNHkjGgRbIcs"
      },
      "execution_count": null,
      "outputs": []
    },
    {
      "cell_type": "code",
      "source": [
        "import pandas as pd\n",
        "import numpy as np\n",
        "import plotly.graph_objects as go\n",
        "from plotly.subplots import make_subplots\n",
        "\n",
        "flag_cols = flag_cols[:8]\n",
        "total_plots = len(flag_cols)\n",
        "cols = 3\n",
        "rows = 3\n",
        "\n",
        "fig = make_subplots(\n",
        "    rows=rows, cols=cols,\n",
        "    subplot_titles=[\"\"] * total_plots,\n",
        "    vertical_spacing=0.1,\n",
        "    horizontal_spacing=0.08\n",
        ")\n",
        "\n",
        "for i, var in enumerate(flag_cols):\n",
        "    row = (i // cols) + 1\n",
        "    col = (i % cols) + 1\n",
        "\n",
        "    categories = list(df_plt[var].astype(str).value_counts().sort_values(ascending=False).index)\n",
        "    df_plt[var] = pd.Categorical(df_plt[var], categories=categories, ordered=True)\n",
        "    x_numeric = df_plt[var].cat.codes\n",
        "\n",
        "    box = go.Box(\n",
        "        x=x_numeric,\n",
        "        y=df_plt['gamma_gtp'],\n",
        "        name=var,\n",
        "        boxpoints='outliers',\n",
        "        marker=dict(color='#1f77b4', opacity=0.3),\n",
        "        line=dict(width=1),\n",
        "        showlegend=False\n",
        "    )\n",
        "\n",
        "    fig.add_trace(box, row=row, col=col)\n",
        "\n",
        "    fig.update_xaxes(\n",
        "        showline=True,\n",
        "        linecolor='#85929E',\n",
        "        linewidth=1,\n",
        "        showgrid=True,\n",
        "        gridcolor='#D6DBDF',\n",
        "        zeroline=False,\n",
        "        title_text=var.replace('_', ' ').capitalize(),\n",
        "        tickmode='array',\n",
        "        tickvals=list(range(len(categories))),\n",
        "        ticktext=categories,\n",
        "        range=[-0.5, len(categories) - 0.5],\n",
        "        tickfont=dict(family=\"Times New Roman\", size=12),\n",
        "        title_font=dict(family=\"Times New Roman\", size=14),\n",
        "        row=row, col=col,\n",
        "        automargin=True\n",
        "    )\n",
        "\n",
        "    fig.update_yaxes(\n",
        "        row=row, col=col,\n",
        "        zeroline=True,\n",
        "        showline=True,\n",
        "        linecolor='#85929E',\n",
        "        linewidth=1,\n",
        "        tickfont=dict(family=\"Times New Roman\", size=12),\n",
        "        title_font=dict(family=\"Times New Roman\", size=14),\n",
        "    )\n",
        "\n",
        "    fig.update_layout(\n",
        "        height=300 * rows,\n",
        "        width=350 * cols,\n",
        "        title_text=\"<b>Gamma-GTP by Missing Indicators (20% Sample)</b>\",\n",
        "        yaxis_title=\"Gamma-GTP\",  # ✅ 모든 subplot에 y축 타이틀 공유\n",
        "        plot_bgcolor='#F2F3F4',\n",
        "        font=dict(family=\"Times New Roman\"),\n",
        "        margin=dict(l=50, r=20, t=80, b=50),\n",
        "        title=dict(font=dict(size=24)),\n",
        "        showlegend=False,\n",
        "    )\n",
        "\n",
        "    for i in range(1, total_plots + 1):\n",
        "        fig['layout'][f'yaxis{i}']['title'] = 'Gamma-GTP'\n",
        "\n",
        "fig.show()"
      ],
      "metadata": {
        "id": "NKeXXuRPYjJh"
      },
      "execution_count": null,
      "outputs": []
    },
    {
      "cell_type": "code",
      "source": [
        "# !pip install -U kaleido"
      ],
      "metadata": {
        "id": "Wwx8XWngaHFi"
      },
      "execution_count": null,
      "outputs": []
    },
    {
      "cell_type": "code",
      "source": [
        "df_plt.shape"
      ],
      "metadata": {
        "id": "txXW5vDm-I6c"
      },
      "execution_count": null,
      "outputs": []
    },
    {
      "cell_type": "code",
      "source": [
        "df_plt = data.sample(frac=0.05, random_state=42).copy()"
      ],
      "metadata": {
        "id": "DGzoaDw--KBt"
      },
      "execution_count": null,
      "outputs": []
    },
    {
      "cell_type": "code",
      "source": [
        "df_plt.shape"
      ],
      "metadata": {
        "id": "V8iw-q-zJ4cs"
      },
      "execution_count": null,
      "outputs": []
    },
    {
      "cell_type": "code",
      "source": [
        "rows = 3\n",
        "cols = 3\n",
        "\n",
        "num_cols_md = num_cols[:9]\n",
        "total_plots = len(num_cols)\n",
        "\n",
        "fig = make_subplots(\n",
        "    rows=rows, cols=cols,\n",
        "    subplot_titles=[\"\"] * total_plots,\n",
        "    vertical_spacing=0.09,\n",
        "    horizontal_spacing=0.1\n",
        ")\n",
        "\n",
        "for i, var in enumerate(num_cols_md):\n",
        "    row = (i // cols) + 1\n",
        "    col = (i % cols) + 1\n",
        "\n",
        "    fig.add_trace(\n",
        "        go.Scatter(\n",
        "            x=df_plt[var],\n",
        "            y=df_plt['gamma_gtp'],\n",
        "            mode='markers',\n",
        "            marker=dict(size=4, color='blue', opacity=0.3),\n",
        "            name=var,\n",
        "            showlegend=False\n",
        "        ),\n",
        "        row=row, col=col\n",
        "    )\n",
        "\n",
        "    fig.update_xaxes(\n",
        "        title_text=var.replace('_', ' ').capitalize(),\n",
        "        row=row, col=col,\n",
        "        showline=True,\n",
        "        linecolor='#85929E',\n",
        "        linewidth=1\n",
        "    )\n",
        "\n",
        "    fig.update_yaxes(\n",
        "        title_text='Gamma-GTP',\n",
        "        row=row, col=col,\n",
        "        showline=True,\n",
        "        linecolor='#85929E',\n",
        "        linewidth=1\n",
        "    )\n",
        "\n",
        "fig.update_layout(\n",
        "    height=250 * rows,\n",
        "    width=300 * cols,\n",
        "    title_text=\"<b>Gamma-GTP by Numerical Variables (1% Sample)</b>\",\n",
        "    plot_bgcolor='#F2F3F4',\n",
        "    font=dict(family=\"Times New Roman\"),\n",
        "    margin=dict(l=50, r=20, t=80, b=50),\n",
        "    title=dict(font=dict(size=24)),\n",
        "    showlegend=False,\n",
        ")\n",
        "\n",
        "fig.show()"
      ],
      "metadata": {
        "id": "Ep3CiQZCXkbU",
        "collapsed": true
      },
      "execution_count": null,
      "outputs": []
    },
    {
      "cell_type": "code",
      "source": [
        "---"
      ],
      "metadata": {
        "id": "63sUPcBVAz0p"
      },
      "execution_count": null,
      "outputs": []
    },
    {
      "cell_type": "markdown",
      "source": [
        "#### Systemic Missing EDA"
      ],
      "metadata": {
        "id": "-Mpjso_Wlgh3"
      }
    },
    {
      "cell_type": "code",
      "source": [
        "import seaborn as sns\n",
        "import matplotlib.pyplot as plt\n",
        "\n",
        "# 결측 여부만 따로 추출\n",
        "missing_matrix = data[num_cols].isnull().astype(int)\n",
        "\n",
        "# 결측 간 상관계수\n",
        "corr = missing_matrix.corr()\n",
        "\n",
        "# 시각화\n",
        "plt.figure(figsize=(10, 8))\n",
        "sns.heatmap(corr, annot=True, cmap='coolwarm')\n",
        "plt.title(\"결측 간 상관관계 (Missingness Correlation)\")\n",
        "plt.show()"
      ],
      "metadata": {
        "id": "mEYRPizcljL4"
      },
      "execution_count": null,
      "outputs": []
    },
    {
      "cell_type": "code",
      "source": [
        "import missingno as msno\n",
        "\n",
        "# 시각적으로 block 결측 패턴 확인\n",
        "msno.matrix(df_plt)\n",
        "msno.heatmap(df_plt)"
      ],
      "metadata": {
        "id": "u7wWMmh4ll6P"
      },
      "execution_count": null,
      "outputs": []
    },
    {
      "cell_type": "markdown",
      "source": [
        "### Missing Handling\n",
        "    문제상황 : 동일한 sample(예: 같은 환자 visit) 내에서 특정 조건(예: 검사 안 받음)으로 인해 여러 개 변수 동시에 결측\n",
        "    고려사항 : 반복측정 데이터이므로 동일 환자/개체의 이전 또는 이후 시점 데이터를 활용 가능\n",
        "    - 반복측정 있음 : `interpolate()`, `ffill`, `bfill`  |  개체 내 시간 순서를 활용한 보간이 가능\n",
        "    - 반복측정 없음 : MICE, KNN Imputer, Simple Imputer  |  전체 모집단의 공변량 구조 기반으로 추정\n",
        "\n",
        "| 기법 이름                        | 설명                                         | 종류                                                       |\n",
        "| ---------------------------- | ------------------------------------------ | ---------------------------------------------------------- |\n",
        "| **Forward Fill (`ffill`)**   | 과거 값을 결측에 복사                               | 단순 누적 대체 (Last Observation Carried Forward)          |\n",
        "| **Backward Fill (`bfill`)**  | 미래 값을 결측에 복사                               | Next Observation Carried Backward                         |\n",
        "| **Interpolate()**            | 앞뒤 값을 기준으로 선형 보간                           | 수학적 보간법 (선형, 다항, 시간 기반 등)                          |\n",
        "| **Rolling / Expanding Mean** | 과거 일정 기간 평균으로 대체                           | 시계열 smoothing + 보정 (이동 평균, 누적 평균 등)              |\n",
        "| **Simple Imputer**           | 전체 평균, 중앙값, 최빈값 등으로 결측값 대체                | 단순 통계 기반 대체                                        |\n",
        "| **KNN Imputer**              | 결측이 없는 관측치들과의 거리 기반 유사한 이웃값으로 대체        | 거리 기반 다변량 대체 (K-Nearest Neighbors)                |\n",
        "| **Iterative Imputer (MICE)** | 다른 변수들로 결측값을 회귀 기반 반복 추정 (다중 대체 가능)       | 다변량 회귀 기반 다중 보간 (MICE: Multiple Imputation by Chained Equations) |\n",
        "| **Random Forest Imputer**    | 트리 기반 모델로 결측값 예측                             | 비선형 모델 기반 다변량 대체                                |\n"
      ],
      "metadata": {
        "id": "hKN-_vLRl5nk"
      }
    },
    {
      "cell_type": "code",
      "source": [
        "data.head()"
      ],
      "metadata": {
        "id": "9X9nJkMmd2Ny"
      },
      "execution_count": null,
      "outputs": []
    },
    {
      "cell_type": "code",
      "source": [
        "# 선형 보간법 (시간 순 정렬 필요)\n",
        "data = data.sort_values(['serial', 'visit_time'])\n",
        "\n",
        "for col in num_cols:\n",
        "    data[col] = data.groupby('serial')[col].transform(lambda x: x.interpolate())"
      ],
      "metadata": {
        "id": "GWUmzXbymJu8"
      },
      "execution_count": null,
      "outputs": []
    },
    {
      "cell_type": "markdown",
      "source": [
        "### Outlier Handling\n",
        "    - 반복측정 있음: groupby('id') 후 Z-score, IQR, rolling mean을 활용해 개체 내 이상값 탐지 및 완화\n",
        "    - 반복측정 없음: 전체 분포 기준 Z-score, IQR, winsorizing 또는 변환(log 등)으로 이상값 완화"
      ],
      "metadata": {
        "id": "R0dlj2oHl1-x"
      }
    },
    {
      "cell_type": "code",
      "source": [
        "import pandas as pd\n",
        "from scipy.stats import zscore\n",
        "\n",
        "# Z-score 기준 이상치 탐지 (개체별)\n",
        "for col in num_cols:\n",
        "    data[f'{col}_z'] = data.groupby('serial')[col].transform(lambda x: zscore(x, nan_policy='omit'))\n",
        "\n",
        "    # 이상값 flag 생성\n",
        "    data[f'{col}_outlier_flag'] = (data[f'{col}_z'].abs() > 3).astype(int)\n",
        "\n",
        "# Winsorizing (상·하위 1% 경계로 제한)\n",
        "def winsorize_series(x, lower=0.01, upper=0.99):\n",
        "    q_low, q_high = x.quantile(lower), x.quantile(upper)\n",
        "    return x.clip(q_low, q_high)\n",
        "\n",
        "for col in num_cols:\n",
        "    data[f'{col}_winsor'] = data.groupby('serial')[col].transform(winsorize_series)"
      ],
      "metadata": {
        "id": "eK4xBVqz15DQ"
      },
      "execution_count": null,
      "outputs": []
    },
    {
      "cell_type": "code",
      "source": [
        "# IQR 기준 이상치 탐지\n",
        "for col in num_cols:\n",
        "    Q1 = data[col].quantile(0.25)\n",
        "    Q3 = data[col].quantile(0.75)\n",
        "    IQR = Q3 - Q1\n",
        "\n",
        "    # 이상값 flag\n",
        "    data[f'{col}_outlier_flag'] = ((data[col] < Q1 - 1.5*IQR) | (data[col] > Q3 + 1.5*IQR)).astype(int)\n",
        "\n",
        "    # log 변환 및 Winsorizing\n",
        "    data[f'{col}_log'] = np.log1p(data[col])  # log(1 + x)\n",
        "    data[f'{col}_winsor'] = data[col].clip(lower=Q1 - 1.5*IQR, upper=Q3 + 1.5*IQR)"
      ],
      "metadata": {
        "id": "SeJQn-_Q2cnJ"
      },
      "execution_count": null,
      "outputs": []
    }
  ],
  "metadata": {
    "colab": {
      "gpuType": "T4",
      "private_outputs": true,
      "provenance": [],
      "toc_visible": true
    },
    "kernelspec": {
      "display_name": "Python 3",
      "name": "python3"
    },
    "language_info": {
      "codemirror_mode": {
        "name": "ipython",
        "version": 3
      },
      "file_extension": ".py",
      "mimetype": "text/x-python",
      "name": "python",
      "nbconvert_exporter": "python",
      "pygments_lexer": "ipython3",
      "version": "3.7.6"
    }
  },
  "nbformat": 4,
  "nbformat_minor": 0
}
