{
 "cells": [
  {
   "cell_type": "markdown",
   "id": "01cebd7e",
   "metadata": {},
   "source": [
    "# Outlier Handling Example"
   ]
  },
  {
   "cell_type": "code",
   "execution_count": null,
   "id": "61225aea",
   "metadata": {},
   "outputs": [],
   "source": [
    "\n",
    "import pandas as pd\n",
    "import numpy as np\n",
    "from scipy import stats\n",
    "from sklearn.preprocessing import RobustScaler\n",
    "import matplotlib.pyplot as plt\n",
    "import seaborn as sns\n"
   ]
  },
  {
   "cell_type": "code",
   "execution_count": null,
   "id": "eba1c3d5",
   "metadata": {},
   "outputs": [],
   "source": [
    "\n",
    "# 예시 데이터 생성\n",
    "np.random.seed(42)\n",
    "df = pd.DataFrame({\n",
    "    'bp': np.random.normal(120, 10, size=100),\n",
    "    'glucose': np.random.normal(90, 15, size=100)\n",
    "})\n",
    "\n",
    "# 이상값 삽입\n",
    "df.loc[5, 'bp'] = 200\n",
    "df.loc[10, 'glucose'] = 300\n"
   ]
  },
  {
   "cell_type": "code",
   "execution_count": null,
   "id": "7b4d730c",
   "metadata": {},
   "outputs": [],
   "source": [
    "\n",
    "# 1. Z-score로 이상값 탐지\n",
    "df['bp_z'] = np.abs(stats.zscore(df['bp']))\n",
    "df['glucose_z'] = np.abs(stats.zscore(df['glucose']))\n",
    "\n",
    "# 2. IQR 기준 이상값 탐지\n",
    "def iqr_outlier_flags(series):\n",
    "    q1 = series.quantile(0.25)\n",
    "    q3 = series.quantile(0.75)\n",
    "    iqr = q3 - q1\n",
    "    lower = q1 - 1.5 * iqr\n",
    "    upper = q3 + 1.5 * iqr\n",
    "    return ((series < lower) | (series > upper)).astype(int)\n",
    "\n",
    "df['bp_outlier_flag'] = iqr_outlier_flags(df['bp'])\n",
    "df['glucose_outlier_flag'] = iqr_outlier_flags(df['glucose'])\n"
   ]
  },
  {
   "cell_type": "code",
   "execution_count": null,
   "id": "73a2cf47",
   "metadata": {},
   "outputs": [],
   "source": [
    "\n",
    "# 3. 로그 변환\n",
    "df['bp_log'] = np.log1p(df['bp'])\n",
    "df['glucose_log'] = np.log1p(df['glucose'])\n"
   ]
  },
  {
   "cell_type": "code",
   "execution_count": null,
   "id": "259749d2",
   "metadata": {},
   "outputs": [],
   "source": [
    "\n",
    "# 4. Robust Scaling\n",
    "scaler = RobustScaler()\n",
    "df[['bp_robust', 'glucose_robust']] = scaler.fit_transform(df[['bp', 'glucose']])\n"
   ]
  },
  {
   "cell_type": "code",
   "execution_count": null,
   "id": "f741524f",
   "metadata": {},
   "outputs": [],
   "source": [
    "\n",
    "# 결과 요약\n",
    "df[['bp', 'bp_z', 'bp_outlier_flag', 'bp_log', 'bp_robust',\n",
    "    'glucose', 'glucose_z', 'glucose_outlier_flag', 'glucose_log', 'glucose_robust']].head()\n"
   ]
  }
 ],
 "metadata": {
  "language": "python"
 },
 "nbformat": 4,
 "nbformat_minor": 5
}
