{
 "cells": [
  {
   "cell_type": "markdown",
   "id": "5f43ed83",
   "metadata": {},
   "source": [
    "# Missing Data Imputation Example"
   ]
  },
  {
   "cell_type": "code",
   "execution_count": null,
   "id": "7cfb2eea",
   "metadata": {},
   "outputs": [],
   "source": [
    "\n",
    "import pandas as pd\n",
    "import numpy as np\n",
    "from sklearn.experimental import enable_iterative_imputer\n",
    "from sklearn.impute import IterativeImputer\n",
    "from sklearn.impute import KNNImputer, SimpleImputer\n",
    "import matplotlib.pyplot as plt\n"
   ]
  },
  {
   "cell_type": "code",
   "execution_count": null,
   "id": "21c53c07",
   "metadata": {},
   "outputs": [],
   "source": [
    "\n",
    "# 예시 데이터 생성\n",
    "np.random.seed(42)\n",
    "n = 100\n",
    "df = pd.DataFrame({\n",
    "    'id': np.repeat(np.arange(1, 21), 5),\n",
    "    'visit_day': list(np.tile(np.arange(1, 6), 20)),\n",
    "    'bp': np.random.normal(120, 10, size=100),\n",
    "    'glucose': np.random.normal(90, 15, size=100)\n",
    "})\n",
    "\n",
    "# 인위적으로 결측값 삽입\n",
    "df.loc[df.sample(frac=0.2, random_state=1).index, 'bp'] = np.nan\n",
    "df.loc[df.sample(frac=0.15, random_state=2).index, 'glucose'] = np.nan\n"
   ]
  },
  {
   "cell_type": "code",
   "execution_count": null,
   "id": "0e950038",
   "metadata": {},
   "outputs": [],
   "source": [
    "\n",
    "# 1. Forward Fill\n",
    "df_sorted = df.sort_values(['id', 'visit_day']).copy()\n",
    "df_sorted['bp_ffill'] = df_sorted.groupby('id')['bp'].ffill()\n",
    "df_sorted['glucose_ffill'] = df_sorted.groupby('id')['glucose'].ffill()\n"
   ]
  },
  {
   "cell_type": "code",
   "execution_count": null,
   "id": "6115b8c3",
   "metadata": {},
   "outputs": [],
   "source": [
    "\n",
    "# 2. Flag 변수 생성\n",
    "df_sorted['bp_missing'] = df_sorted['bp'].isnull().astype(int)\n",
    "df_sorted['glucose_missing'] = df_sorted['glucose'].isnull().astype(int)\n"
   ]
  },
  {
   "cell_type": "code",
   "execution_count": null,
   "id": "2b688dcc",
   "metadata": {},
   "outputs": [],
   "source": [
    "\n",
    "# 3. Simple Imputer (중앙값으로)\n",
    "simple_imputer = SimpleImputer(strategy='median')\n",
    "df_sorted[['bp_simple', 'glucose_simple']] = simple_imputer.fit_transform(df_sorted[['bp', 'glucose']])\n"
   ]
  },
  {
   "cell_type": "code",
   "execution_count": null,
   "id": "5f7a075b",
   "metadata": {},
   "outputs": [],
   "source": [
    "\n",
    "# 4. Iterative Imputer (MICE)\n",
    "iter_imputer = IterativeImputer(random_state=0, max_iter=10)\n",
    "df_sorted[['bp_mice', 'glucose_mice']] = iter_imputer.fit_transform(df_sorted[['bp', 'glucose']])\n"
   ]
  },
  {
   "cell_type": "code",
   "execution_count": null,
   "id": "00824b42",
   "metadata": {},
   "outputs": [],
   "source": [
    "\n",
    "# 결과 요약 표\n",
    "df_sorted[['id', 'visit_day', 'bp', 'bp_ffill', 'bp_simple', 'bp_mice',\n",
    "           'glucose', 'glucose_ffill', 'glucose_simple', 'glucose_mice',\n",
    "           'bp_missing', 'glucose_missing']].head()\n"
   ]
  }
 ],
 "metadata": {
  "language": "python"
 },
 "nbformat": 4,
 "nbformat_minor": 5
}
